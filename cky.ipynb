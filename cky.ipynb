{
 "cells": [
  {
   "cell_type": "code",
   "execution_count": 1,
   "metadata": {},
   "outputs": [],
   "source": [
    "import math"
   ]
  },
  {
   "cell_type": "markdown",
   "metadata": {},
   "source": []
  },
  {
   "cell_type": "code",
   "execution_count": 2,
   "metadata": {},
   "outputs": [],
   "source": [
    "\"\"\"\n",
    "Constant Names for CFG\n",
    "\"\"\"\n",
    "S = \"S\" #sentence\n",
    "NP = \"NP\" #noun phrase\n",
    "VP = \"VP\" #verb phrase\n",
    "D = \"D\" #determiner\n",
    "N = \"N\" #noun\n",
    "V = \"V\" #verb\n",
    "P = \"P\" #pronoun"
   ]
  },
  {
   "cell_type": "code",
   "execution_count": 29,
   "metadata": {},
   "outputs": [],
   "source": [
    "\"\"\"\n",
    "example CFG for initial testing\n",
    "i.e. S : ([(NP,VP)],0.5) => S -> NP VP with a probability of 0.5\n",
    "\"\"\"\n",
    "grammar = {\n",
    "    S : [((NP,VP),.8),((VP, NP),.2)],\n",
    "    NP: [((D,N), .8), ((NP,NP), .2) ],\n",
    "    VP: [((V,P), 1)],\n",
    "    D : [((\"the\"), 1)],\n",
    "    N : [((\"woman\"), .6),((\"man\"), .4)],\n",
    "    V : [((\"saw\"), 1)],\n",
    "    P : [((\"him\"), 1)]\n",
    "}\n"
   ]
  },
  {
   "cell_type": "code",
   "execution_count": 30,
   "metadata": {},
   "outputs": [],
   "source": [
    "\"\"\"\n",
    "example sentences to be parsed by the CKY algorithm\n",
    "\"\"\"\n",
    "\n",
    "sentence = \"the woman saw him\"\n",
    "sentence01 = \"the woman saw\"\n",
    "sentence02 = \"the woman\"\n",
    "sentence03 = \"woman\"\n",
    "sentence04 = \"the woman saw him yesterday\""
   ]
  },
  {
   "cell_type": "code",
   "execution_count": 23,
   "metadata": {},
   "outputs": [],
   "source": [
    "def cky(sentence, grammar):\n",
    "    \"\"\"\n",
    "    Perform the CKY algorithm to parse a sentence given a CNF grammar.\n",
    "\n",
    "    :param sentence: The sentence to parse\n",
    "    :param grammar: A dictionary representing the CNF grammar, with the key being the LHS and the value being a list of possible RHS.\n",
    "    :return: A nxn CKY Table, with each cell containing the max possible log probability\n",
    "    \"\"\"\n",
    "    #split sentence into words\n",
    "    words = sentence.split()\n",
    "    n = len(words)\n",
    "    \n",
    "    # Initialize the table to be nxn\n",
    "    cky_table = [[{} for j in range(n)] for i in range(n)]\n",
    "    \n",
    "    # Fill in the diagonals of the table\n",
    "    for i, word in enumerate(words):\n",
    "        for lhs, rules in grammar.items():\n",
    "            for rhs, prob in rules:\n",
    "                if rhs == (word):\n",
    "                    cky_table[i][i][lhs] = math.log(prob)\n",
    "\n",
    "    for j in range(2, n + 1):\n",
    "        for i in range(n - j + 1):\n",
    "            for k in range(1, j):\n",
    "                for lhs, rules in grammar.items():\n",
    "                    for rhs, prob in rules:\n",
    "                        if len(rhs) == 2:\n",
    "                            if rhs[0] in cky_table[i][i + k - 1] and rhs[1] in cky_table[i + k][i + j - 1]:\n",
    "\n",
    "                                # Calculate the probability of the current parse\n",
    "                                current_prob = cky_table[i][i + k - 1][rhs[0]] + cky_table[i + k][i + j - 1][rhs[1]] + math.log(prob)\n",
    "\n",
    "                                # If this rule gives a higher probability, or if the rule is not yet in the table\n",
    "                                if lhs not in cky_table[i][i + j - 1] or current_prob > cky_table[i][i + j - 1][lhs]:\n",
    "                                    cky_table[i][i + j - 1][lhs] = current_prob\n",
    "    return cky_table\n",
    "    "
   ]
  },
  {
   "cell_type": "code",
   "execution_count": 31,
   "metadata": {},
   "outputs": [
    {
     "name": "stdout",
     "output_type": "stream",
     "text": [
      "[{'D': 0.0}, {'NP': -0.7339691750802004}, {}, {'S': -0.9571127263944101}]\n",
      "[{}, {'N': -0.5108256237659907}, {}, {}]\n",
      "[{}, {}, {'V': 0.0}, {'VP': 0.0}]\n",
      "[{}, {}, {}, {'P': 0.0}]\n"
     ]
    }
   ],
   "source": [
    "table = cky(sentence, grammar)\n",
    "\n",
    "for row in table:\n",
    "    print(row)"
   ]
  }
 ],
 "metadata": {
  "kernelspec": {
   "display_name": "Python 3",
   "language": "python",
   "name": "python3"
  },
  "language_info": {
   "codemirror_mode": {
    "name": "ipython",
    "version": 3
   },
   "file_extension": ".py",
   "mimetype": "text/x-python",
   "name": "python",
   "nbconvert_exporter": "python",
   "pygments_lexer": "ipython3",
   "version": "3.10.5"
  }
 },
 "nbformat": 4,
 "nbformat_minor": 2
}
