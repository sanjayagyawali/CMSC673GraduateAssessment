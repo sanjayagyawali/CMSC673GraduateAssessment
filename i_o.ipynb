{
 "cells": [
  {
   "cell_type": "code",
   "execution_count": 2,
   "metadata": {},
   "outputs": [],
   "source": [
    "import math"
   ]
  },
  {
   "cell_type": "code",
   "execution_count": 175,
   "metadata": {},
   "outputs": [],
   "source": [
    "\"\"\"\n",
    "Constant Names for CFG\n",
    "\"\"\"\n",
    "S = \"S\" #sentence\n",
    "NP = \"NP\" #noun phrase\n",
    "VP = \"VP\" #verb phrase\n",
    "PP = \"PP\"\n",
    "D = \"D\" #determiner\n",
    "N = \"N\" #noun\n",
    "V = \"V\" #verb\n",
    "P = \"P\" #pronoun"
   ]
  },
  {
   "cell_type": "code",
   "execution_count": 176,
   "metadata": {},
   "outputs": [],
   "source": [
    "\"\"\"\n",
    "example CFG for initial testing\n",
    "i.e. S : ([(NP,VP)],0.5) => S -> NP VP with a probability of 0.5\n",
    "\"\"\"\n",
    "grammar = {\n",
    "    S : [((NP,VP),.8),((VP, NP),.2)],\n",
    "    NP: [((D,N), .8), ((NP,NP), .2) ],\n",
    "    VP: [((V,P), 1)],\n",
    "    D : [((\"the\"), 1)],\n",
    "    N : [((\"woman\"), .6),((\"man\"), .4)],\n",
    "    V : [((\"saw\"), 1)],\n",
    "    P : [((\"him\"), 1)]\n",
    "}\n",
    "\n",
    "grammar2 = {\n",
    "    S : [((NP,VP),1)],\n",
    "    NP: [ ((D,N), .6), ((NP,PP), .3), ((\"Papa\"), .1) ],\n",
    "    VP: [((V,NP), .6), ((VP,PP), .4)],\n",
    "    PP :[((P,NP), 1)],\n",
    "    D : [((\"the\"), .5), ((\"a\"), .5)],\n",
    "    N : [((\"caviar\"), .6),((\"spoon\"), .4)],\n",
    "    V : [((\"spoon\"), .1),((\"ate\"), .9)],\n",
    "    P : [((\"with\"), 1)]\n",
    "}\n",
    "\n",
    "grammar3 = {\n",
    "    S : [((NP,VP),1)],\n",
    "    NP: [ ((NP,PP), .4), ((\"astronomers\"), .1), ((\"ears\"), .18), ((\"saw\"), .04), ((\"stars\"), .18), ((\"telescopes\"), .1) ],\n",
    "    VP: [((V,NP), .7), ((VP,PP), .3)],\n",
    "    PP :[((P,NP), 1)],\n",
    "    V : [((\"saw\"), 1)],\n",
    "    P : [((\"with\"), 1)]\n",
    "}"
   ]
  },
  {
   "cell_type": "code",
   "execution_count": 183,
   "metadata": {},
   "outputs": [
    {
     "name": "stdout",
     "output_type": "stream",
     "text": [
      "S  ->  [(('NP', 'VP'), 1)]\n",
      "\n",
      "NP  ->  [(('D', 'N'), 0.6), (('NP', 'PP'), 0.3), ('Papa', 0.1)]\n",
      "\n",
      "VP  ->  [(('V', 'NP'), 0.6), (('VP', 'PP'), 0.4)]\n",
      "\n",
      "PP  ->  [(('P', 'NP'), 1)]\n",
      "\n",
      "D  ->  [('the', 0.5), ('a', 0.5)]\n",
      "\n",
      "N  ->  [('caviar', 0.6), ('spoon', 0.4)]\n",
      "\n",
      "V  ->  [('spoon', 0.1), ('ate', 0.9)]\n",
      "\n",
      "P  ->  [('with', 1)]\n",
      "\n"
     ]
    }
   ],
   "source": [
    "for key, value in grammar2.items():\n",
    "    print(key, \" -> \", value)\n",
    "    print()"
   ]
  },
  {
   "cell_type": "code",
   "execution_count": 177,
   "metadata": {},
   "outputs": [],
   "source": [
    "\"\"\"\n",
    "example sentences\n",
    "\"\"\"\n",
    "\n",
    "sentence = \"the woman saw him\"\n",
    "sentence03 = \"astronomers saw stars with ears\"\n",
    "sentence04 = \"Papa ate the caviar with a spoon\""
   ]
  },
  {
   "cell_type": "code",
   "execution_count": 180,
   "metadata": {},
   "outputs": [],
   "source": [
    "def inside(sentence, grammar):\n",
    "    \"\"\"\n",
    "    Perform the inside algorithm\n",
    "\n",
    "    :param sentence: The sentence to parse\n",
    "    :param grammar: A dictionary representing the CNF grammar, with the key being the LHS and the value being a list of possible RHS.\n",
    "    :return: A nxn CKY Table, with each cell containing the max possible log probability\n",
    "    \"\"\"\n",
    "    #split sentence into words\n",
    "    words = sentence.split()\n",
    "    n = len(words)\n",
    "    \n",
    "    # Initialize the table to be nxn\n",
    "    inside_table = [[{} for j in range(n)] for i in range(n)]\n",
    "    \n",
    "    # Fill in the diagonals of the table\n",
    "    for i, word in enumerate(words):\n",
    "        for lhs, rules in grammar.items():\n",
    "            for rhs, prob in rules:\n",
    "                if rhs == (word):\n",
    "                    inside_table[i][i][lhs] = math.log(prob)\n",
    "\n",
    "    for j in range(2, n + 1):\n",
    "        for i in range(n - j + 1):\n",
    "            for k in range(1, j):\n",
    "                for lhs, rules in grammar.items():\n",
    "                    for rhs, prob in rules:\n",
    "                        if len(rhs) == 2:\n",
    "                            if rhs[0] in inside_table[i][i + k - 1] and rhs[1] in inside_table[i + k][i + j - 1]:\n",
    "\n",
    "                                new_prob = inside_table[i][i + k - 1][rhs[0]] + inside_table[i + k][i + j - 1][rhs[1]] + math.log(prob)\n",
    "                                \n",
    "                                if lhs in inside_table[i][i + j - 1]:\n",
    "                                    inside_table[i][i + j - 1][lhs] += new_prob\n",
    "                                else:\n",
    "                                    inside_table[i][i + j - 1][lhs] = new_prob\n",
    "\n",
    "    return inside_table\n",
    "    "
   ]
  },
  {
   "cell_type": "code",
   "execution_count": 181,
   "metadata": {},
   "outputs": [
    {
     "name": "stdout",
     "output_type": "stream",
     "text": [
      "[{}, {'NP': -2.3025850929940455}, {}, {}, {'S': -4.633569660509789}, {}, {}, {'S': -13.325344836625804}]\n",
      "[{}, {}, {'V': -0.10536051565782628}, {}, {'VP': -2.3309845675157437}, {}, {}, {'VP': -11.02275974363176}]\n",
      "[{}, {}, {}, {'D': -0.6931471805599453}, {'NP': -1.7147984280919266}, {}, {}, {'NP': -5.039034768617953}]\n",
      "[{}, {}, {}, {}, {'N': -0.5108256237659907}, {}, {}, {}]\n",
      "[{}, {}, {}, {}, {}, {'P': 0.0}, {}, {'PP': -2.120263536200091}]\n",
      "[{}, {}, {}, {}, {}, {}, {'D': -0.6931471805599453}, {'NP': -2.120263536200091}]\n",
      "[{}, {}, {}, {}, {}, {}, {}, {'N': -0.916290731874155, 'V': -2.3025850929940455}]\n"
     ]
    }
   ],
   "source": [
    "my_inside_table = inside(sentence04, grammar2)\n",
    "\n",
    "for row in my_inside_table:\n",
    "    row.insert(0,{})\n",
    "    print(row)"
   ]
  },
  {
   "cell_type": "code",
   "execution_count": 178,
   "metadata": {},
   "outputs": [
    {
     "name": "stdout",
     "output_type": "stream",
     "text": [
      "[{}, {'NP': -2.3025850929940455}, {}, {'S': -4.374058465024705}, {}, {'S': -11.995392229439306}]\n",
      "[{}, {}, {'NP': -3.2188758248682006, 'V': 0.0}, {'VP': -2.071473372030659}, {}, {'VP': -9.69280713644526}]\n",
      "[{}, {}, {}, {'NP': -1.7147984280919266}, {}, {'NP': -4.345887588058008}]\n",
      "[{}, {}, {}, {}, {'P': 0.0}, {'PP': -1.7147984280919266}]\n",
      "[{}, {}, {}, {}, {}, {'NP': -1.7147984280919266}]\n"
     ]
    }
   ],
   "source": [
    "yt_inside_table = inside(sentence03, grammar3)\n",
    "\n",
    "for row in yt_inside_table:\n",
    "    row.insert(0,{})\n",
    "    print(row)"
   ]
  },
  {
   "cell_type": "code",
   "execution_count": 170,
   "metadata": {},
   "outputs": [],
   "source": [
    "def outside(sentence, grammar, beta):\n",
    "    \"\"\"\n",
    "    Perform the outside algorithm\n",
    "\n",
    "    :param sentence: The sentence to parse\n",
    "    :param grammar: A dictionary representing the CNF grammar, with the key being the LHS and the value being a list of possible RHS.\n",
    "    :return: A nxn CKY Table, with each cell containing the max possible log probability\n",
    "    :param beta: the nxn table returned from the inside algorithm\n",
    "    \"\"\"\n",
    "    #split sentence into words\n",
    "    words = sentence.split()\n",
    "    n = len(words)\n",
    "    \n",
    "    # Initialize the table to be nxn\n",
    "    alpha = [[{} for j in range(n+1)] for i in range(n)]\n",
    "\n",
    "    alpha[0][n]['S'] = 0  # 'S' is the start symbol\n",
    "\n",
    "    for width in range(n, 0 , -1):\n",
    "        for start in range(0, n - width + 1):\n",
    "            end = start + width\n",
    "            for mid in range(start + 1, end):\n",
    "\n",
    "                for X, rules in grammar.items():\n",
    "                    for rhs, prob in rules:\n",
    "                        if len(rhs) == 2: \n",
    "                            Y, Z = rhs\n",
    "                            # alpha[Y][start][mid]\n",
    "                            if Y in beta[start][mid]:\n",
    "                                if Y not in alpha[start][mid]:\n",
    "                                    alpha[start][mid][Y] = 0.0\n",
    "                                alpha[start][mid][Y] += alpha[start][end].get(X, 0.0) + beta[mid][end].get(Z, 0.0) + math.log(prob)\n",
    "                            \n",
    "                            # alpha[Z][mid][end]\n",
    "                            if Z in beta[mid][end]:\n",
    "                                if Z not in alpha[mid][end]:\n",
    "                                    alpha[mid][end][Z] = 0.0\n",
    "                                alpha[mid][end][Z] += alpha[start][end].get(X, 0.0) + beta[start][mid].get(Y, 0.0) + math.log(prob)\n",
    "\n",
    "    return alpha"
   ]
  },
  {
   "cell_type": "code",
   "execution_count": 171,
   "metadata": {},
   "outputs": [
    {
     "name": "stdout",
     "output_type": "stream",
     "text": [
      "[{}, {'NP': -20.577581137103117}, {}, {}, {}, {}, {}, {'S': 0}]\n",
      "[{}, {}, {'V': -21.084852326344528}, {}, {'VP': -9.474305917810646}, {}, {}, {'VP': -2.3025850929940455}]\n",
      "[{}, {}, {}, {'D': -25.746821461376015}, {'NP': -19.76309648636221}, {}, {}, {'NP': -3.429596856183853}]\n",
      "[{}, {}, {}, {}, {'N': -21.988720538220125}, {}, {}, {}]\n",
      "[{}, {}, {}, {}, {}, {'P': -20.379282625786026}, {}, {'PP': -18.259019089585934}]\n",
      "[{}, {}, {}, {}, {}, {}, {'D': -24.54284865705008}, {'NP': -23.11573230140993}]\n",
      "[{}, {}, {}, {}, {}, {}, {}, {'N': -30.30343008074967}]\n"
     ]
    }
   ],
   "source": [
    "table = outside(sentence04, grammar2 ,my_inside_table)\n",
    "\n",
    "for row in table:\n",
    "    print(row)"
   ]
  }
 ],
 "metadata": {
  "kernelspec": {
   "display_name": "Python 3",
   "language": "python",
   "name": "python3"
  },
  "language_info": {
   "codemirror_mode": {
    "name": "ipython",
    "version": 3
   },
   "file_extension": ".py",
   "mimetype": "text/x-python",
   "name": "python",
   "nbconvert_exporter": "python",
   "pygments_lexer": "ipython3",
   "version": "3.10.5"
  }
 },
 "nbformat": 4,
 "nbformat_minor": 2
}
