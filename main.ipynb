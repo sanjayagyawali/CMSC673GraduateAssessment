{
 "cells": [
  {
   "cell_type": "code",
   "execution_count": null,
   "metadata": {},
   "outputs": [],
   "source": [
    "import math"
   ]
  },
  {
   "cell_type": "code",
   "execution_count": null,
   "metadata": {},
   "outputs": [],
   "source": [
    "S = \"Sentence\"\n",
    "NP = \"Noun Phrase\"\n",
    "VP = \"Verb Phrase\"\n",
    "D = \"Det\"\n",
    "N = \"Noun\"\n",
    "V = \"Verb\"\n",
    "P = \"Pronoun\"\n",
    "T = \"Terminal Char\""
   ]
  },
  {
   "cell_type": "code",
   "execution_count": null,
   "metadata": {},
   "outputs": [],
   "source": [
    "grammar = {\n",
    "    {[S],[NP,VP]},\n",
    "    {[NP],[D,N]},\n",
    "    {[VP],[V,P]},\n",
    "    {[D],[T]},\n",
    "    {[N],[T]},\n",
    "    {[V],[T]},\n",
    "    {[P],[T]}\n",
    "}"
   ]
  }
 ],
 "metadata": {
  "language_info": {
   "name": "python"
  }
 },
 "nbformat": 4,
 "nbformat_minor": 2
}
