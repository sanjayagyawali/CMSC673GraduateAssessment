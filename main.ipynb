{
 "cells": [
  {
   "cell_type": "code",
   "execution_count": null,
   "metadata": {},
   "outputs": [],
   "source": []
  },
  {
   "cell_type": "code",
   "execution_count": 12,
   "metadata": {},
   "outputs": [],
   "source": [
    "\"\"\"\n",
    "Constant Names for CFG\n",
    "\"\"\"\n",
    "S = \"S\" #sentence\n",
    "NP = \"NP\" #noun phrase\n",
    "VP = \"VP\" #verb phrase\n",
    "D = \"D\" #determiner\n",
    "N = \"N\" #noun\n",
    "V = \"V\" #verb\n",
    "P = \"P\" #pronoun"
   ]
  },
  {
   "cell_type": "code",
   "execution_count": 23,
   "metadata": {},
   "outputs": [],
   "source": [
    "\"\"\"\n",
    "example CFG for initial testing\n",
    "i.e. {[S],[NP,VP]} => S -> NP VP\n",
    "\"\"\"\n",
    "grammar = {\n",
    "    S : [(NP,VP)],\n",
    "    NP : [(D,N)],\n",
    "    VP : [(V,P)],\n",
    "    D : [(\"the\",)],\n",
    "    N : [(\"woman\",)],\n",
    "    V : [(\"saw\",)],\n",
    "    P : [(\"him\",)]\n",
    "}"
   ]
  },
  {
   "cell_type": "code",
   "execution_count": 14,
   "metadata": {},
   "outputs": [],
   "source": [
    "\"\"\"\n",
    "example sentence to be parsed by the CKY algorithm\n",
    "\"\"\"\n",
    "\n",
    "sentence = \"the woman saw him\""
   ]
  },
  {
   "cell_type": "code",
   "execution_count": 51,
   "metadata": {},
   "outputs": [],
   "source": [
    "def cyk(sentence, grammar):\n",
    "    \"\"\"\n",
    "    Perform the CYK algorithm to parse a sentence given a CNF grammar.\n",
    "\n",
    "    :param sentence: The sentence to parse\n",
    "    :param grammar: A dictionary representing the CNF grammar, with the key being the LHS and the value being a list of possible RHS.\n",
    "    :return: A 3D table that represents the parsing table.\n",
    "    \"\"\"\n",
    "    #split sentence into words\n",
    "    words = sentence.split()\n",
    "    n = len(words)\n",
    "    \n",
    "    # Initialize the table to be nxn\n",
    "    cky_table = [[[] for j in range(n)] for i in range(n)]\n",
    "\n",
    "    # Fill in the diagonals of the table\n",
    "    for i, word in enumerate(words):\n",
    "        for lhs, rules in grammar.items():\n",
    "            for rhs in rules:\n",
    "                if rhs == (word,):\n",
    "                    cky_table[i][i].append(lhs)\n",
    "\n",
    "    # Fill in the rest of the table\n",
    "    for length in range(1, n):\n",
    "        for start in range(n - length):\n",
    "            for partition in range(1, length + 1):\n",
    "                for lhs, rules in grammar.items():\n",
    "                    for rhs in rules:\n",
    "                        if len(rhs) == 2:  # Only considering rules with two non-terminals in RHS\n",
    "                            B, C = rhs\n",
    "                            if B in cky_table[start][start + partition - 1] and C in cky_table[start + partition][start + length]:\n",
    "                                cky_table[start][start + length].append(lhs)\n",
    "\n",
    "    return cky_table"
   ]
  },
  {
   "cell_type": "code",
   "execution_count": 52,
   "metadata": {},
   "outputs": [
    {
     "name": "stdout",
     "output_type": "stream",
     "text": [
      "[['D'], ['NP'], [], ['S']]\n",
      "[[], ['N'], [], []]\n",
      "[[], [], ['V'], ['VP']]\n",
      "[[], [], [], ['P']]\n"
     ]
    }
   ],
   "source": [
    "table = cyk(\"the woman saw him\", grammar)\n",
    "\n",
    "for row in table:\n",
    "    print(row)"
   ]
  }
 ],
 "metadata": {
  "kernelspec": {
   "display_name": "Python 3",
   "language": "python",
   "name": "python3"
  },
  "language_info": {
   "codemirror_mode": {
    "name": "ipython",
    "version": 3
   },
   "file_extension": ".py",
   "mimetype": "text/x-python",
   "name": "python",
   "nbconvert_exporter": "python",
   "pygments_lexer": "ipython3",
   "version": "3.10.5"
  }
 },
 "nbformat": 4,
 "nbformat_minor": 2
}
